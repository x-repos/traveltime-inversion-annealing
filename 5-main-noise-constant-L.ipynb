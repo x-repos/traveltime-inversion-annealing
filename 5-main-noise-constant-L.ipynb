{
 "cells": [
  {
   "cell_type": "markdown",
   "metadata": {},
   "source": [
    "## Seismic model"
   ]
  },
  {
   "cell_type": "markdown",
   "metadata": {},
   "source": [
    "### Function"
   ]
  },
  {
   "cell_type": "code",
   "execution_count": 1,
   "metadata": {},
   "outputs": [],
   "source": [
    "from dwave.system import DWaveSampler, EmbeddingComposite # type: ignore\n",
    "\n",
    "\n",
    "import numpy as np # type: ignore\n",
    "import matplotlib.pyplot as plt # type: ignore\n",
    "import sys, os, importlib\n",
    "\n",
    "# Reload modules to ensure the latest changes are picked up\n",
    "sys.path.append(os.path.abspath(\"modules\"))\n",
    "import modules.plotting\n",
    "import modules.dwaveapi\n",
    "import modules.gendata\n",
    "importlib.reload(modules.plotting)\n",
    "importlib.reload(modules.dwaveapi)\n",
    "importlib.reload(modules.gendata)\n",
    "\n",
    "from modules.dwaveapi import *\n",
    "from modules.gendata import *\n",
    "from modules.plotting import *\n",
    "\n",
    "np.random.seed(99) # random noise\n",
    "from tqdm import tqdm"
   ]
  },
  {
   "cell_type": "markdown",
   "metadata": {},
   "source": [
    "### Running whole model"
   ]
  },
  {
   "cell_type": "code",
   "execution_count": 9,
   "metadata": {},
   "outputs": [],
   "source": [
    "# Assuming the following functions are defined elsewhere:\n",
    "# velocity_generator, device_location, find_intersections,\n",
    "# remove_duplicate_intersections, calculate_distances,\n",
    "# noise_generator, construct_Ad, binary_least_squares_qubo,\n",
    "# dict_to_vector_auto, binary2real\n",
    "\n",
    "def quantum_annealing_inversion(noise_level, results_dir='results30x10-new'):\n",
    "    \"\"\"\n",
    "    Perform velocity inversion using quantum annealing with specified noise level.\n",
    "\n",
    "    Parameters:\n",
    "    noise_level (float): The noise level to be applied to travel time data.\n",
    "    results_dir (str): Directory to store the results.\n",
    "\n",
    "    Returns:\n",
    "    None\n",
    "    \"\"\"\n",
    "    # Define the velocity model\n",
    "    rows, cols = 30, 10\n",
    "    grid_size = (rows, cols)\n",
    "    velocity_model = velocity_generator(rows, cols)\n",
    "\n",
    "    # Iterate through layers\n",
    "    for layer in tqdm(range(0, 15), desc=\"Process\", colour='green'):\n",
    "        # -----------------------------------------------------------------\n",
    "        # Part 1 - Extract a part of the velocity model and set up geometry\n",
    "        velocity_01 = velocity_model[layer, :]\n",
    "        velocity_01 = velocity_01.reshape(1, -1)\n",
    "\n",
    "        rows_new, cols_new = 1, 10\n",
    "        grid_size_new = (rows_new, cols_new)\n",
    "\n",
    "        z = device_location(n=20, rows=rows, new_min=0.1, new_max=29.9, linear=False)\n",
    "        z = z - layer\n",
    "        sources = [(0, i) for i in z]\n",
    "        receivers = [(cols, i) for i in z]\n",
    "\n",
    "        intersections = find_intersections(sources, receivers, grid_size=grid_size_new)\n",
    "        unique_intersections = remove_duplicate_intersections(intersections)\n",
    "        distances = calculate_distances(unique_intersections, grid_size=grid_size_new, sources=sources, receivers=receivers)\n",
    "\n",
    "        # -----------------------------------------------------------------\n",
    "        # Part 2 - Calculate D and T for least squares\n",
    "        D = []\n",
    "        T = []\n",
    "        s1 = 1 / velocity_01\n",
    "\n",
    "        nreceiver = len(receivers)\n",
    "        nsource = len(sources)\n",
    "\n",
    "        for i in range(nsource):\n",
    "            for j in range(nreceiver):\n",
    "                D.append(distances[:, :, j, i].flatten())\n",
    "                T.append(sum(sum(distances[:, :, j, i] * s1)))\n",
    "        D = np.array(D)\n",
    "        s1 = s1.flatten()\n",
    "\n",
    "        # -----------------------------------------------------------------\n",
    "        # Part 3 - Add noise and remove zero elements\n",
    "        T = np.array(T)\n",
    "        indices_of_zero_np = np.where(T == 0)[0]\n",
    "\n",
    "        # Add noise\n",
    "        noise_percent = noise_generator(size=400, noise_level=noise_level)\n",
    "        T_noise = T + noise_percent * T\n",
    "\n",
    "        T_new = np.delete(T_noise, indices_of_zero_np, axis=0)\n",
    "        D_new = np.delete(D, indices_of_zero_np, axis=0)\n",
    "\n",
    "        # -----------------------------------------------------------------\n",
    "        # Part 4 - Prepare parameters for quantum annealing\n",
    "        M = D_new.copy()\n",
    "        I = np.ones(M.shape[1])\n",
    "        R = 3\n",
    "        t = T_new.copy()\n",
    "\n",
    "        # -----------------------------------------------------------------\n",
    "        # Part 5 - Quantum Annealing\n",
    "\n",
    "        # Initial guess\n",
    "        s0 = np.ones(s1.shape) * 1 / 3500\n",
    "        A = construct_Ad(M, R, 1)\n",
    "        # L = max(abs(s1 - s0)) + 0.05 * max(abs(s1 - s0))\n",
    "        L = 3e-5\n",
    "        directory = f'{results_dir}/{layer}'\n",
    "        os.makedirs(directory, exist_ok=True)\n",
    "\n",
    "        for i in range(0, 10):\n",
    "            b = (t + L * M @ I - M @ s0) / L\n",
    "\n",
    "            Q = binary_least_squares_qubo(A, b)\n",
    "\n",
    "            # Solve the QUBO using D-Wave's system\n",
    "            sampler = EmbeddingComposite(DWaveSampler())\n",
    "            sampleset = sampler.sample_qubo(Q, num_reads=100)\n",
    "\n",
    "            # Get the best sample\n",
    "            q = dict_to_vector_auto(sampleset.first.sample)\n",
    "            x = binary2real(q, R, 2)\n",
    "\n",
    "            # Update s\n",
    "            s = s0 + L * (x - I)\n",
    "\n",
    "            # Save results\n",
    "            s0 = s\n",
    "            L = L / 2\n",
    "            filename = f'{directory}/s_{i}.txt'\n",
    "            np.savetxt(filename, s)\n",
    "\n",
    "        print(f'Layer {layer}: Max error =', max(abs(1 / s1 - 1 / s)))\n",
    "\n"
   ]
  },
  {
   "cell_type": "code",
   "execution_count": 6,
   "metadata": {},
   "outputs": [
    {
     "name": "stderr",
     "output_type": "stream",
     "text": [
      "Process:   0%|\u001b[32m          \u001b[0m| 0/15 [00:00<?, ?it/s]"
     ]
    },
    {
     "name": "stderr",
     "output_type": "stream",
     "text": [
      "Process:   7%|\u001b[32m▋         \u001b[0m| 1/15 [01:07<15:39, 67.10s/it]"
     ]
    },
    {
     "name": "stdout",
     "output_type": "stream",
     "text": [
      "Layer 15: Max error = 6.436859988476044\n"
     ]
    },
    {
     "name": "stderr",
     "output_type": "stream",
     "text": [
      "Process:  13%|\u001b[32m█▎        \u001b[0m| 2/15 [02:14<14:37, 67.52s/it]"
     ]
    },
    {
     "name": "stdout",
     "output_type": "stream",
     "text": [
      "Layer 16: Max error = 6.674437022757957\n"
     ]
    },
    {
     "name": "stderr",
     "output_type": "stream",
     "text": [
      "Process:  20%|\u001b[32m██        \u001b[0m| 3/15 [03:35<14:42, 73.54s/it]"
     ]
    },
    {
     "name": "stdout",
     "output_type": "stream",
     "text": [
      "Layer 17: Max error = 6.05169437865834\n"
     ]
    },
    {
     "name": "stderr",
     "output_type": "stream",
     "text": [
      "Process:  27%|\u001b[32m██▋       \u001b[0m| 4/15 [04:49<13:29, 73.61s/it]"
     ]
    },
    {
     "name": "stdout",
     "output_type": "stream",
     "text": [
      "Layer 18: Max error = 4.302632330894994\n"
     ]
    },
    {
     "name": "stderr",
     "output_type": "stream",
     "text": [
      "Process:  33%|\u001b[32m███▎      \u001b[0m| 5/15 [05:59<12:02, 72.23s/it]"
     ]
    },
    {
     "name": "stdout",
     "output_type": "stream",
     "text": [
      "Layer 19: Max error = 8.372474094648169\n"
     ]
    },
    {
     "name": "stderr",
     "output_type": "stream",
     "text": [
      "Process:  40%|\u001b[32m████      \u001b[0m| 6/15 [07:09<10:45, 71.71s/it]"
     ]
    },
    {
     "name": "stdout",
     "output_type": "stream",
     "text": [
      "Layer 20: Max error = 10.06937613646096\n"
     ]
    },
    {
     "name": "stderr",
     "output_type": "stream",
     "text": [
      "Process:  47%|\u001b[32m████▋     \u001b[0m| 7/15 [08:20<09:30, 71.32s/it]"
     ]
    },
    {
     "name": "stdout",
     "output_type": "stream",
     "text": [
      "Layer 21: Max error = 6.078529065419389\n"
     ]
    },
    {
     "name": "stderr",
     "output_type": "stream",
     "text": [
      "Process:  53%|\u001b[32m█████▎    \u001b[0m| 8/15 [09:32<08:21, 71.64s/it]"
     ]
    },
    {
     "name": "stdout",
     "output_type": "stream",
     "text": [
      "Layer 22: Max error = 6.2712899204721\n"
     ]
    },
    {
     "name": "stderr",
     "output_type": "stream",
     "text": [
      "Process:  60%|\u001b[32m██████    \u001b[0m| 9/15 [10:36<06:54, 69.12s/it]"
     ]
    },
    {
     "name": "stdout",
     "output_type": "stream",
     "text": [
      "Layer 23: Max error = 6.3309427905514895\n"
     ]
    },
    {
     "name": "stderr",
     "output_type": "stream",
     "text": [
      "Process:  67%|\u001b[32m██████▋   \u001b[0m| 10/15 [11:51<05:54, 70.97s/it]"
     ]
    },
    {
     "name": "stdout",
     "output_type": "stream",
     "text": [
      "Layer 24: Max error = 18.329448990354194\n"
     ]
    },
    {
     "name": "stderr",
     "output_type": "stream",
     "text": [
      "Process:  73%|\u001b[32m███████▎  \u001b[0m| 11/15 [12:58<04:39, 69.87s/it]"
     ]
    },
    {
     "name": "stdout",
     "output_type": "stream",
     "text": [
      "Layer 25: Max error = 12.251203379969411\n"
     ]
    },
    {
     "name": "stderr",
     "output_type": "stream",
     "text": [
      "Process:  80%|\u001b[32m████████  \u001b[0m| 12/15 [14:08<03:29, 69.83s/it]"
     ]
    },
    {
     "name": "stdout",
     "output_type": "stream",
     "text": [
      "Layer 26: Max error = 21.212228567978855\n"
     ]
    },
    {
     "name": "stderr",
     "output_type": "stream",
     "text": [
      "Process:  87%|\u001b[32m████████▋ \u001b[0m| 13/15 [15:11<02:15, 67.63s/it]"
     ]
    },
    {
     "name": "stdout",
     "output_type": "stream",
     "text": [
      "Layer 27: Max error = 22.47869181453143\n"
     ]
    },
    {
     "name": "stderr",
     "output_type": "stream",
     "text": [
      "Process:  93%|\u001b[32m█████████▎\u001b[0m| 14/15 [16:10<01:05, 65.21s/it]"
     ]
    },
    {
     "name": "stdout",
     "output_type": "stream",
     "text": [
      "Layer 28: Max error = 42.06100758996172\n"
     ]
    },
    {
     "name": "stderr",
     "output_type": "stream",
     "text": [
      "Process: 100%|\u001b[32m██████████\u001b[0m| 15/15 [17:19<00:00, 69.29s/it]"
     ]
    },
    {
     "name": "stdout",
     "output_type": "stream",
     "text": [
      "Layer 29: Max error = 797.3134495051177\n"
     ]
    },
    {
     "name": "stderr",
     "output_type": "stream",
     "text": [
      "\n"
     ]
    }
   ],
   "source": [
    "quantum_annealing_inversion(noise_level=1e-2, results_dir='results-noise-1-constantL')"
   ]
  },
  {
   "cell_type": "code",
   "execution_count": 10,
   "metadata": {},
   "outputs": [
    {
     "name": "stderr",
     "output_type": "stream",
     "text": [
      "Process:   7%|\u001b[32m▋         \u001b[0m| 1/15 [01:14<17:27, 74.79s/it]"
     ]
    },
    {
     "name": "stdout",
     "output_type": "stream",
     "text": [
      "Layer 0: Max error = 87.93432751564296\n"
     ]
    },
    {
     "name": "stderr",
     "output_type": "stream",
     "text": [
      "Process:  13%|\u001b[32m█▎        \u001b[0m| 2/15 [03:21<22:49, 105.35s/it]"
     ]
    },
    {
     "name": "stdout",
     "output_type": "stream",
     "text": [
      "Layer 1: Max error = 146.5693930023681\n"
     ]
    },
    {
     "name": "stderr",
     "output_type": "stream",
     "text": [
      "Process:  20%|\u001b[32m██        \u001b[0m| 3/15 [04:41<18:45, 93.82s/it] "
     ]
    },
    {
     "name": "stdout",
     "output_type": "stream",
     "text": [
      "Layer 2: Max error = 106.58319080414003\n"
     ]
    },
    {
     "name": "stderr",
     "output_type": "stream",
     "text": [
      "Process:  27%|\u001b[32m██▋       \u001b[0m| 4/15 [05:59<16:02, 87.51s/it]"
     ]
    },
    {
     "name": "stdout",
     "output_type": "stream",
     "text": [
      "Layer 3: Max error = 35.09294019459867\n"
     ]
    },
    {
     "name": "stderr",
     "output_type": "stream",
     "text": [
      "Process:  33%|\u001b[32m███▎      \u001b[0m| 5/15 [07:20<14:12, 85.26s/it]"
     ]
    },
    {
     "name": "stdout",
     "output_type": "stream",
     "text": [
      "Layer 4: Max error = 16.58202108744763\n"
     ]
    },
    {
     "name": "stderr",
     "output_type": "stream",
     "text": [
      "Process:  40%|\u001b[32m████      \u001b[0m| 6/15 [08:48<12:55, 86.18s/it]"
     ]
    },
    {
     "name": "stdout",
     "output_type": "stream",
     "text": [
      "Layer 5: Max error = 16.362083511697165\n"
     ]
    },
    {
     "name": "stderr",
     "output_type": "stream",
     "text": [
      "Process:  47%|\u001b[32m████▋     \u001b[0m| 7/15 [10:15<11:30, 86.37s/it]"
     ]
    },
    {
     "name": "stdout",
     "output_type": "stream",
     "text": [
      "Layer 6: Max error = 17.282268195947836\n"
     ]
    },
    {
     "name": "stderr",
     "output_type": "stream",
     "text": [
      "Process:  53%|\u001b[32m█████▎    \u001b[0m| 8/15 [11:33<09:45, 83.60s/it]"
     ]
    },
    {
     "name": "stdout",
     "output_type": "stream",
     "text": [
      "Layer 7: Max error = 19.697342407310316\n"
     ]
    },
    {
     "name": "stderr",
     "output_type": "stream",
     "text": [
      "Process:  60%|\u001b[32m██████    \u001b[0m| 9/15 [12:59<08:27, 84.56s/it]"
     ]
    },
    {
     "name": "stdout",
     "output_type": "stream",
     "text": [
      "Layer 8: Max error = 11.667113456250263\n"
     ]
    },
    {
     "name": "stderr",
     "output_type": "stream",
     "text": [
      "Process:  67%|\u001b[32m██████▋   \u001b[0m| 10/15 [14:18<06:53, 82.74s/it]"
     ]
    },
    {
     "name": "stdout",
     "output_type": "stream",
     "text": [
      "Layer 9: Max error = 17.91701214634986\n"
     ]
    },
    {
     "name": "stderr",
     "output_type": "stream",
     "text": [
      "Process:  73%|\u001b[32m███████▎  \u001b[0m| 11/15 [15:43<05:34, 83.54s/it]"
     ]
    },
    {
     "name": "stdout",
     "output_type": "stream",
     "text": [
      "Layer 10: Max error = 12.005735635306337\n"
     ]
    },
    {
     "name": "stderr",
     "output_type": "stream",
     "text": [
      "Process:  80%|\u001b[32m████████  \u001b[0m| 12/15 [16:59<04:03, 81.14s/it]"
     ]
    },
    {
     "name": "stdout",
     "output_type": "stream",
     "text": [
      "Layer 11: Max error = 16.84178663054081\n"
     ]
    },
    {
     "name": "stderr",
     "output_type": "stream",
     "text": [
      "Process:  87%|\u001b[32m████████▋ \u001b[0m| 13/15 [19:16<03:16, 98.20s/it]"
     ]
    },
    {
     "name": "stdout",
     "output_type": "stream",
     "text": [
      "Layer 12: Max error = 15.146375858201736\n"
     ]
    },
    {
     "name": "stderr",
     "output_type": "stream",
     "text": [
      "Process:  93%|\u001b[32m█████████▎\u001b[0m| 14/15 [20:40<01:33, 93.82s/it]"
     ]
    },
    {
     "name": "stdout",
     "output_type": "stream",
     "text": [
      "Layer 13: Max error = 10.77533557991137\n"
     ]
    },
    {
     "name": "stderr",
     "output_type": "stream",
     "text": [
      "Process: 100%|\u001b[32m██████████\u001b[0m| 15/15 [22:07<00:00, 88.53s/it]"
     ]
    },
    {
     "name": "stdout",
     "output_type": "stream",
     "text": [
      "Layer 14: Max error = 16.789205886011132\n"
     ]
    },
    {
     "name": "stderr",
     "output_type": "stream",
     "text": [
      "\n"
     ]
    }
   ],
   "source": [
    "quantum_annealing_inversion(noise_level=2e-2, results_dir='results-noise-2-constantL')"
   ]
  },
  {
   "cell_type": "code",
   "execution_count": 11,
   "metadata": {},
   "outputs": [
    {
     "name": "stderr",
     "output_type": "stream",
     "text": [
      "Process:   7%|\u001b[32m▋         \u001b[0m| 1/15 [01:24<19:40, 84.35s/it]"
     ]
    },
    {
     "name": "stdout",
     "output_type": "stream",
     "text": [
      "Layer 0: Max error = 239.5365256975333\n"
     ]
    },
    {
     "name": "stderr",
     "output_type": "stream",
     "text": [
      "Process:  13%|\u001b[32m█▎        \u001b[0m| 2/15 [02:45<17:48, 82.23s/it]"
     ]
    },
    {
     "name": "stdout",
     "output_type": "stream",
     "text": [
      "Layer 1: Max error = 297.2272367067071\n"
     ]
    },
    {
     "name": "stderr",
     "output_type": "stream",
     "text": [
      "Process:  20%|\u001b[32m██        \u001b[0m| 3/15 [04:14<17:04, 85.38s/it]"
     ]
    },
    {
     "name": "stdout",
     "output_type": "stream",
     "text": [
      "Layer 2: Max error = 97.41928795073318\n"
     ]
    },
    {
     "name": "stderr",
     "output_type": "stream",
     "text": [
      "Process:  27%|\u001b[32m██▋       \u001b[0m| 4/15 [05:48<16:18, 88.93s/it]"
     ]
    },
    {
     "name": "stdout",
     "output_type": "stream",
     "text": [
      "Layer 3: Max error = 66.63935714487843\n"
     ]
    },
    {
     "name": "stderr",
     "output_type": "stream",
     "text": [
      "Process:  33%|\u001b[32m███▎      \u001b[0m| 5/15 [07:11<14:26, 86.65s/it]"
     ]
    },
    {
     "name": "stdout",
     "output_type": "stream",
     "text": [
      "Layer 4: Max error = 70.82349358442298\n"
     ]
    },
    {
     "name": "stderr",
     "output_type": "stream",
     "text": [
      "Process:  40%|\u001b[32m████      \u001b[0m| 6/15 [08:37<13:00, 86.68s/it]"
     ]
    },
    {
     "name": "stdout",
     "output_type": "stream",
     "text": [
      "Layer 5: Max error = 55.967555173303936\n"
     ]
    },
    {
     "name": "stderr",
     "output_type": "stream",
     "text": [
      "Process:  47%|\u001b[32m████▋     \u001b[0m| 7/15 [10:02<11:26, 85.85s/it]"
     ]
    },
    {
     "name": "stdout",
     "output_type": "stream",
     "text": [
      "Layer 6: Max error = 52.55386580659797\n"
     ]
    },
    {
     "name": "stderr",
     "output_type": "stream",
     "text": [
      "Process:  53%|\u001b[32m█████▎    \u001b[0m| 8/15 [11:32<10:10, 87.15s/it]"
     ]
    },
    {
     "name": "stdout",
     "output_type": "stream",
     "text": [
      "Layer 7: Max error = 38.78496716014297\n"
     ]
    },
    {
     "name": "stderr",
     "output_type": "stream",
     "text": [
      "Process:  60%|\u001b[32m██████    \u001b[0m| 9/15 [12:52<08:30, 85.03s/it]"
     ]
    },
    {
     "name": "stdout",
     "output_type": "stream",
     "text": [
      "Layer 8: Max error = 24.102403430604227\n"
     ]
    },
    {
     "name": "stderr",
     "output_type": "stream",
     "text": [
      "Process:  67%|\u001b[32m██████▋   \u001b[0m| 10/15 [14:23<07:14, 86.89s/it]"
     ]
    },
    {
     "name": "stdout",
     "output_type": "stream",
     "text": [
      "Layer 9: Max error = 34.915729603491855\n"
     ]
    },
    {
     "name": "stderr",
     "output_type": "stream",
     "text": [
      "Process:  73%|\u001b[32m███████▎  \u001b[0m| 11/15 [15:50<05:48, 87.06s/it]"
     ]
    },
    {
     "name": "stdout",
     "output_type": "stream",
     "text": [
      "Layer 10: Max error = 24.146724283296408\n"
     ]
    },
    {
     "name": "stderr",
     "output_type": "stream",
     "text": [
      "Process:  80%|\u001b[32m████████  \u001b[0m| 12/15 [19:25<06:17, 125.97s/it]"
     ]
    },
    {
     "name": "stdout",
     "output_type": "stream",
     "text": [
      "Layer 11: Max error = 52.642082272906464\n"
     ]
    },
    {
     "name": "stderr",
     "output_type": "stream",
     "text": [
      "Process:  87%|\u001b[32m████████▋ \u001b[0m| 13/15 [20:41<03:41, 110.58s/it]"
     ]
    },
    {
     "name": "stdout",
     "output_type": "stream",
     "text": [
      "Layer 12: Max error = 34.056511365309234\n"
     ]
    },
    {
     "name": "stderr",
     "output_type": "stream",
     "text": [
      "Process:  93%|\u001b[32m█████████▎\u001b[0m| 14/15 [22:05<01:42, 102.68s/it]"
     ]
    },
    {
     "name": "stdout",
     "output_type": "stream",
     "text": [
      "Layer 13: Max error = 34.41339485470917\n"
     ]
    },
    {
     "name": "stderr",
     "output_type": "stream",
     "text": [
      "Process: 100%|\u001b[32m██████████\u001b[0m| 15/15 [23:32<00:00, 94.17s/it] "
     ]
    },
    {
     "name": "stdout",
     "output_type": "stream",
     "text": [
      "Layer 14: Max error = 47.603964476554665\n"
     ]
    },
    {
     "name": "stderr",
     "output_type": "stream",
     "text": [
      "\n"
     ]
    }
   ],
   "source": [
    "quantum_annealing_inversion(noise_level=5e-2, results_dir='results-noise-5-constantL')"
   ]
  },
  {
   "cell_type": "code",
   "execution_count": 20,
   "metadata": {},
   "outputs": [
    {
     "name": "stderr",
     "output_type": "stream",
     "text": [
      "Process:   3%|\u001b[32m▎         \u001b[0m| 1/30 [01:10<34:10, 70.70s/it]"
     ]
    },
    {
     "name": "stdout",
     "output_type": "stream",
     "text": [
      "Layer 0: Max error = 22.528672991102667\n"
     ]
    },
    {
     "name": "stderr",
     "output_type": "stream",
     "text": [
      "Process:   7%|\u001b[32m▋         \u001b[0m| 2/30 [02:19<32:22, 69.37s/it]"
     ]
    },
    {
     "name": "stdout",
     "output_type": "stream",
     "text": [
      "Layer 1: Max error = 47.5098298760372\n"
     ]
    },
    {
     "name": "stderr",
     "output_type": "stream",
     "text": [
      "Process:  10%|\u001b[32m█         \u001b[0m| 3/30 [03:24<30:24, 67.56s/it]"
     ]
    },
    {
     "name": "stdout",
     "output_type": "stream",
     "text": [
      "Layer 2: Max error = 19.85293588186778\n"
     ]
    },
    {
     "name": "stderr",
     "output_type": "stream",
     "text": [
      "Process:  13%|\u001b[32m█▎        \u001b[0m| 4/30 [04:45<31:32, 72.77s/it]"
     ]
    },
    {
     "name": "stdout",
     "output_type": "stream",
     "text": [
      "Layer 3: Max error = 40.21723160290094\n"
     ]
    },
    {
     "name": "stderr",
     "output_type": "stream",
     "text": [
      "Process:  17%|\u001b[32m█▋        \u001b[0m| 5/30 [05:56<30:05, 72.24s/it]"
     ]
    },
    {
     "name": "stdout",
     "output_type": "stream",
     "text": [
      "Layer 4: Max error = 56.81479147055825\n"
     ]
    },
    {
     "name": "stderr",
     "output_type": "stream",
     "text": [
      "Process:  20%|\u001b[32m██        \u001b[0m| 6/30 [07:47<34:05, 85.24s/it]"
     ]
    },
    {
     "name": "stdout",
     "output_type": "stream",
     "text": [
      "Layer 5: Max error = 61.185392505561595\n"
     ]
    },
    {
     "name": "stderr",
     "output_type": "stream",
     "text": [
      "Process:  23%|\u001b[32m██▎       \u001b[0m| 7/30 [09:06<31:53, 83.20s/it]"
     ]
    },
    {
     "name": "stdout",
     "output_type": "stream",
     "text": [
      "Layer 6: Max error = 29.43568268428635\n"
     ]
    },
    {
     "name": "stderr",
     "output_type": "stream",
     "text": [
      "Process:  27%|\u001b[32m██▋       \u001b[0m| 8/30 [10:42<32:05, 87.52s/it]"
     ]
    },
    {
     "name": "stdout",
     "output_type": "stream",
     "text": [
      "Layer 7: Max error = 13.111857757012785\n"
     ]
    },
    {
     "name": "stderr",
     "output_type": "stream",
     "text": [
      "Process:  30%|\u001b[32m███       \u001b[0m| 9/30 [12:01<29:39, 84.75s/it]"
     ]
    },
    {
     "name": "stdout",
     "output_type": "stream",
     "text": [
      "Layer 8: Max error = 36.295272588050466\n"
     ]
    },
    {
     "name": "stderr",
     "output_type": "stream",
     "text": [
      "Process:  33%|\u001b[32m███▎      \u001b[0m| 10/30 [13:11<26:44, 80.24s/it]"
     ]
    },
    {
     "name": "stdout",
     "output_type": "stream",
     "text": [
      "Layer 9: Max error = 10.39465892715998\n"
     ]
    },
    {
     "name": "stderr",
     "output_type": "stream",
     "text": [
      "Process:  37%|\u001b[32m███▋      \u001b[0m| 11/30 [14:22<24:31, 77.44s/it]"
     ]
    },
    {
     "name": "stdout",
     "output_type": "stream",
     "text": [
      "Layer 10: Max error = 23.74937689838316\n"
     ]
    },
    {
     "name": "stderr",
     "output_type": "stream",
     "text": [
      "Process:  40%|\u001b[32m████      \u001b[0m| 12/30 [15:46<23:48, 79.38s/it]"
     ]
    },
    {
     "name": "stdout",
     "output_type": "stream",
     "text": [
      "Layer 11: Max error = 30.256772110558813\n"
     ]
    },
    {
     "name": "stderr",
     "output_type": "stream",
     "text": [
      "Process:  43%|\u001b[32m████▎     \u001b[0m| 13/30 [17:08<22:43, 80.20s/it]"
     ]
    },
    {
     "name": "stdout",
     "output_type": "stream",
     "text": [
      "Layer 12: Max error = 32.87459917018941\n"
     ]
    },
    {
     "name": "stderr",
     "output_type": "stream",
     "text": [
      "Process:  47%|\u001b[32m████▋     \u001b[0m| 14/30 [18:24<21:04, 79.01s/it]"
     ]
    },
    {
     "name": "stdout",
     "output_type": "stream",
     "text": [
      "Layer 13: Max error = 44.135504537411634\n"
     ]
    },
    {
     "name": "stderr",
     "output_type": "stream",
     "text": [
      "Process:  50%|\u001b[32m█████     \u001b[0m| 15/30 [19:40<19:31, 78.13s/it]"
     ]
    },
    {
     "name": "stdout",
     "output_type": "stream",
     "text": [
      "Layer 14: Max error = 17.95197784816355\n"
     ]
    },
    {
     "name": "stderr",
     "output_type": "stream",
     "text": [
      "Process:  53%|\u001b[32m█████▎    \u001b[0m| 16/30 [21:35<20:48, 89.15s/it]"
     ]
    },
    {
     "name": "stdout",
     "output_type": "stream",
     "text": [
      "Layer 15: Max error = 15.640587518228585\n"
     ]
    },
    {
     "name": "stderr",
     "output_type": "stream",
     "text": [
      "Process:  57%|\u001b[32m█████▋    \u001b[0m| 17/30 [23:04<19:17, 89.07s/it]"
     ]
    },
    {
     "name": "stdout",
     "output_type": "stream",
     "text": [
      "Layer 16: Max error = 43.1865465012329\n"
     ]
    },
    {
     "name": "stderr",
     "output_type": "stream",
     "text": [
      "Process:  60%|\u001b[32m██████    \u001b[0m| 18/30 [24:18<16:55, 84.64s/it]"
     ]
    },
    {
     "name": "stdout",
     "output_type": "stream",
     "text": [
      "Layer 17: Max error = 32.234064805036724\n"
     ]
    },
    {
     "name": "stderr",
     "output_type": "stream",
     "text": [
      "Process:  63%|\u001b[32m██████▎   \u001b[0m| 19/30 [25:38<15:14, 83.13s/it]"
     ]
    },
    {
     "name": "stdout",
     "output_type": "stream",
     "text": [
      "Layer 18: Max error = 30.529935517209196\n"
     ]
    },
    {
     "name": "stderr",
     "output_type": "stream",
     "text": [
      "Process:  67%|\u001b[32m██████▋   \u001b[0m| 20/30 [27:06<14:04, 84.46s/it]"
     ]
    },
    {
     "name": "stdout",
     "output_type": "stream",
     "text": [
      "Layer 19: Max error = 30.805104792346356\n"
     ]
    },
    {
     "name": "stderr",
     "output_type": "stream",
     "text": [
      "Process:  70%|\u001b[32m███████   \u001b[0m| 21/30 [28:33<12:48, 85.39s/it]"
     ]
    },
    {
     "name": "stdout",
     "output_type": "stream",
     "text": [
      "Layer 20: Max error = 15.221082990148261\n"
     ]
    },
    {
     "name": "stderr",
     "output_type": "stream",
     "text": [
      "Process:  73%|\u001b[32m███████▎  \u001b[0m| 22/30 [29:55<11:13, 84.20s/it]"
     ]
    },
    {
     "name": "stdout",
     "output_type": "stream",
     "text": [
      "Layer 21: Max error = 14.243009346978852\n"
     ]
    },
    {
     "name": "stderr",
     "output_type": "stream",
     "text": [
      "Process:  77%|\u001b[32m███████▋  \u001b[0m| 23/30 [31:24<09:59, 85.68s/it]"
     ]
    },
    {
     "name": "stdout",
     "output_type": "stream",
     "text": [
      "Layer 22: Max error = 33.52447591810369\n"
     ]
    },
    {
     "name": "stderr",
     "output_type": "stream",
     "text": [
      "Process:  80%|\u001b[32m████████  \u001b[0m| 24/30 [32:44<08:24, 84.01s/it]"
     ]
    },
    {
     "name": "stdout",
     "output_type": "stream",
     "text": [
      "Layer 23: Max error = 38.8059266873297\n"
     ]
    },
    {
     "name": "stderr",
     "output_type": "stream",
     "text": [
      "Process:  83%|\u001b[32m████████▎ \u001b[0m| 25/30 [34:12<07:05, 85.14s/it]"
     ]
    },
    {
     "name": "stdout",
     "output_type": "stream",
     "text": [
      "Layer 24: Max error = 36.53579204146308\n"
     ]
    },
    {
     "name": "stderr",
     "output_type": "stream",
     "text": [
      "Process:  87%|\u001b[32m████████▋ \u001b[0m| 26/30 [35:42<05:46, 86.65s/it]"
     ]
    },
    {
     "name": "stdout",
     "output_type": "stream",
     "text": [
      "Layer 25: Max error = 25.842868457363693\n"
     ]
    },
    {
     "name": "stderr",
     "output_type": "stream",
     "text": [
      "Process:  90%|\u001b[32m█████████ \u001b[0m| 27/30 [39:04<06:04, 121.47s/it]"
     ]
    },
    {
     "name": "stdout",
     "output_type": "stream",
     "text": [
      "Layer 26: Max error = 57.97907015942883\n"
     ]
    },
    {
     "name": "stderr",
     "output_type": "stream",
     "text": [
      "Process:  93%|\u001b[32m█████████▎\u001b[0m| 28/30 [40:46<03:50, 115.41s/it]"
     ]
    },
    {
     "name": "stdout",
     "output_type": "stream",
     "text": [
      "Layer 27: Max error = 64.06048282074107\n"
     ]
    },
    {
     "name": "stderr",
     "output_type": "stream",
     "text": [
      "Process:  97%|\u001b[32m█████████▋\u001b[0m| 29/30 [42:19<01:48, 108.80s/it]"
     ]
    },
    {
     "name": "stdout",
     "output_type": "stream",
     "text": [
      "Layer 28: Max error = 63.10374015818479\n"
     ]
    },
    {
     "name": "stderr",
     "output_type": "stream",
     "text": [
      "Process: 100%|\u001b[32m██████████\u001b[0m| 30/30 [43:59<00:00, 87.98s/it] "
     ]
    },
    {
     "name": "stdout",
     "output_type": "stream",
     "text": [
      "Layer 29: Max error = 33.53641736081545\n"
     ]
    },
    {
     "name": "stderr",
     "output_type": "stream",
     "text": [
      "\n"
     ]
    }
   ],
   "source": [
    "quantum_annealing_inversion(noise_level=5e-2, results_dir='results-noise-5')"
   ]
  }
 ],
 "metadata": {
  "kernelspec": {
   "display_name": "dwave",
   "language": "python",
   "name": "python3"
  },
  "language_info": {
   "codemirror_mode": {
    "name": "ipython",
    "version": 3
   },
   "file_extension": ".py",
   "mimetype": "text/x-python",
   "name": "python",
   "nbconvert_exporter": "python",
   "pygments_lexer": "ipython3",
   "version": "3.12.2"
  }
 },
 "nbformat": 4,
 "nbformat_minor": 2
}
