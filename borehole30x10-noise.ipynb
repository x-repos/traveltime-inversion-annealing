{
 "cells": [
  {
   "cell_type": "markdown",
   "metadata": {},
   "source": [
    "## Seismic model"
   ]
  },
  {
   "cell_type": "markdown",
   "metadata": {},
   "source": [
    "### Function"
   ]
  },
  {
   "cell_type": "code",
   "execution_count": 57,
   "metadata": {},
   "outputs": [],
   "source": [
    "from dwave.system import DWaveSampler, EmbeddingComposite # type: ignore\n",
    "from modules import construct_Ad, binary2real\n",
    "from modules import binary_least_squares_qubo, dict_to_vector_auto\n",
    "import numpy as np # type: ignore\n",
    "import matplotlib.pyplot as plt # type: ignore\n",
    "import pandas as pd # type: ignore\n",
    "import os\n",
    "from tqdm import tqdm  # type: ignore\n",
    "\n",
    "# Functions\n",
    "def velocity_generator(rows, cols):\n",
    "    grid_size = (rows, cols)\n",
    "    min_velocity = 3460\n",
    "    max_velocity = 3530\n",
    "    wedge_min_velocity = 3180\n",
    "    wedge_max_velocity = 3220\n",
    "    wedge_start_row = 10\n",
    "    wedge_end_row = 20\n",
    "\n",
    "    # Create a background velocity model with values ranging from 3460 to 3530\n",
    "    velocity_model = np.linspace(min_velocity, max_velocity, rows).reshape(-1, 1)\n",
    "    velocity_model = np.repeat(velocity_model, cols, axis=1)\n",
    "\n",
    "    # Create a triangular wedge shape with vertices at (0, 10), (0, 20), and (10, 10)\n",
    "    for i in range(wedge_start_row, wedge_end_row):\n",
    "        row_velocity = np.linspace(wedge_min_velocity, wedge_max_velocity, wedge_end_row - wedge_start_row)[i - wedge_start_row]\n",
    "        num_cols_in_wedge = wedge_end_row - i\n",
    "        velocity_model[i, :num_cols_in_wedge] = row_velocity\n",
    "    return velocity_model\n",
    "\n",
    "\n",
    "def plot_velocity_model_with_sources_and_receivers(velocity_model, sources, receivers, cols, rows, showlines, linecolor, linewidth):\n",
    "    plt.figure(figsize=(15, 7))  \n",
    "    # plt.imshow(velocity_model, cmap='viridis', interpolation='nearest', origin='upper')\n",
    "    plt.imshow(velocity_model, cmap='viridis', interpolation='nearest', extent=[0, cols, rows, 0], origin='upper', vmin=3175, vmax=3530)\n",
    "    plt.colorbar(label='Velocity (m/s)')\n",
    "    plt.title('Velocity Model')\n",
    "    plt.xlabel('X')\n",
    "    plt.ylabel('Y')\n",
    "\n",
    "    # # Add numbers to the grid\n",
    "    # rows, cols = velocity_model.shape\n",
    "    # for i in range(rows):\n",
    "    #     for j in range(cols):\n",
    "    #         plt.text(j + 0.5, i + 0.5, str(i * cols + j + 1), color='white', \n",
    "    #                  ha='center', va='center', fontsize=12, weight='bold')\n",
    "\n",
    "    # # Plot the sources as stars with blue circles\n",
    "    # for idx, source in enumerate(sources):\n",
    "    #     plt.plot(source[0], source[1], marker='*', color='yellow', markersize=15)\n",
    "    #     plt.text(source[0], source[1], f'{idx + 1}', color='blue', fontsize=12, ha='center', va='center', bbox=dict(facecolor='white', edgecolor='blue', boxstyle='circle'))\n",
    "\n",
    "    # # Plot the receivers as dots\n",
    "    # for idx, receiver in enumerate(receivers):\n",
    "    #     plt.plot(receiver[0], receiver[1], marker='o', color='blue', markersize=10)\n",
    "    #     plt.text(receiver[0], receiver[1], str(idx + 1), color='red', fontsize=12, ha='center', va='center', bbox=dict(facecolor='white', edgecolor='red', boxstyle='circle'))\n",
    "    \n",
    "    # Plot lines between sources and receivers\n",
    "    if showlines == True:\n",
    "        for source in sources:\n",
    "            for receiver in receivers:\n",
    "                plt.plot([source[0], receiver[0]], [source[1], receiver[1]], color=linecolor, linestyle='--', linewidth=linewidth)\n",
    "\n",
    "    # Plot the sources and receivers\n",
    "    for idx, source in enumerate(sources):\n",
    "        plt.plot(source[0], source[1], marker='o', color='red', markersize=5)\n",
    "\n",
    "    for idx, receiver in enumerate(receivers):\n",
    "        plt.plot(receiver[0], receiver[1], marker='o', color='blue', markersize=5)\n",
    "\n",
    "\n",
    "def find_intersections(sources, receivers, grid_size):\n",
    "    all_intersections = []\n",
    "    for s_idx, source in enumerate(sources):\n",
    "        for i, receiver in enumerate(receivers):\n",
    "            x0, y0 = source\n",
    "            x1, y1 = receiver\n",
    "            dx = x1 - x0\n",
    "            dy = y1 - y0\n",
    "\n",
    "            for j in range(grid_size[0]):  # rows\n",
    "                for k in range(grid_size[1]):  # columns\n",
    "                    # Calculate intersections with grid lines\n",
    "                    cell_x_min = k\n",
    "                    cell_x_max = k + 1\n",
    "                    cell_y_min = j\n",
    "                    cell_y_max = j + 1\n",
    "                    intersections = []\n",
    "\n",
    "                    # Left boundary\n",
    "                    if dx != 0:\n",
    "                        t = (cell_x_min - x0) / dx\n",
    "                        if 0 <= t <= 1:\n",
    "                            y = y0 + t * dy\n",
    "                            if cell_y_min <= y <= cell_y_max:\n",
    "                                intersections.append((cell_x_min, y))\n",
    "\n",
    "                    # Right boundary\n",
    "                    if dx != 0:\n",
    "                        t = (cell_x_max - x0) / dx\n",
    "                        if 0 <= t <= 1:\n",
    "                            y = y0 + t * dy\n",
    "                            if cell_y_min <= y <= cell_y_max:\n",
    "                                intersections.append((cell_x_max, y))\n",
    "\n",
    "                    # Bottom boundary\n",
    "                    if dy != 0:\n",
    "                        t = (cell_y_min - y0) / dy\n",
    "                        if 0 <= t <= 1:\n",
    "                            x = x0 + t * dx\n",
    "                            if cell_x_min <= x <= cell_x_max:\n",
    "                                intersections.append((x, cell_y_min))\n",
    "\n",
    "                    # Top boundary\n",
    "                    if dy != 0:\n",
    "                        t = (cell_y_max - y0) / dy\n",
    "                        if 0 <= t <= 1:\n",
    "                            x = x0 + t * dx\n",
    "                            if cell_x_min <= x <= cell_x_max:\n",
    "                                intersections.append((x, cell_y_max))\n",
    "\n",
    "                    # Add entry and exit points\n",
    "                    if (cell_x_min <= x0 <= cell_x_max) and (cell_y_min <= y0 <= cell_y_max):\n",
    "                        intersections.append((x0, y0))\n",
    "                    if (cell_x_min <= x1 <= cell_x_max) and (cell_y_min <= y1 <= cell_y_max):\n",
    "                        intersections.append((x1, y1))\n",
    "\n",
    "                    # Remove duplicate points\n",
    "                    intersections = list(set(intersections))\n",
    "                    # Sort intersections by distance from the source\n",
    "                    intersections = sorted(intersections, key=lambda p: np.hypot(p[0] - x0, p[1] - y0))\n",
    "\n",
    "                    # Add intersections to all_intersections\n",
    "                    all_intersections.append(intersections)\n",
    "\n",
    "    return all_intersections\n",
    "\n",
    "# Remove duplicates from intersections\n",
    "def remove_duplicate_intersections(intersections):\n",
    "    seen = set()\n",
    "    unique_intersections = []\n",
    "\n",
    "    for point_pair in intersections:\n",
    "        if tuple(point_pair) not in seen:\n",
    "            unique_intersections.append(point_pair)\n",
    "            seen.add(tuple(point_pair))\n",
    "        else:\n",
    "            unique_intersections.append([])\n",
    "\n",
    "    return unique_intersections\n",
    "\n",
    "# Calculate distances from unique intersections and store them in a NumPy array\n",
    "def calculate_distances(unique_intersections, grid_size, sources, receivers):\n",
    "    distances = np.zeros((grid_size[0], grid_size[1], len(receivers), len(sources)))\n",
    "    idx = -1\n",
    "    for s_idx, source in enumerate(sources):\n",
    "        for i, receiver in enumerate(receivers):\n",
    "            for j in range(grid_size[0]):\n",
    "                for k in range(grid_size[1]):\n",
    "                    idx = idx + 1\n",
    "                    intersections = unique_intersections[idx]\n",
    "                    if len(intersections) >= 2:\n",
    "                        total_distance = 0\n",
    "                        for idxx in range(len(intersections) - 1):\n",
    "                            d = np.hypot(intersections[idxx + 1][0] - intersections[idxx][0], intersections[idxx + 1][1] - intersections[idxx][1])\n",
    "                            total_distance += d\n",
    "                        distances[j, k, i, s_idx] = total_distance\n",
    "                    else:\n",
    "                        distances[j, k, i, s_idx] = 0\n",
    "    return distances\n",
    "\n",
    "def rescale(arr, new_min, new_max):\n",
    "    old_min = np.min(arr)\n",
    "    old_max = np.max(arr)\n",
    "    return (new_max - new_min) * (arr - old_min) / (old_max - old_min) + new_min\n",
    "\n",
    "def device_location(n, rows, new_min, new_max, linear):\n",
    "    if linear == True:\n",
    "        z4 = np.linspace(new_min, new_max, n)\n",
    "    else:\n",
    "        n2 = int(np.ceil(n/2))\n",
    "        rows2 = rows/2 - 1.3\n",
    "        x = np.array([x for x in range(n2)])\n",
    "        y = np.array([(i+3)**2 for i in x])\n",
    "        z = (y - y[0]) * rows2 / (y[-1] - y[0])\n",
    "        z1 = 15 - z + 15\n",
    "        z2 = z1[::-1]\n",
    "        z3 = np.concatenate((z, z2))\n",
    "        z4 = rescale(z3, new_min, new_max) # Rescale array to range\n",
    "    return z4\n",
    "\n",
    "def noise_generator(size, noise_level):\n",
    "    noise = (np.random.rand(size))-0.5\n",
    "    noise = noise*noise_level\n",
    "    return noise\n"
   ]
  },
  {
   "cell_type": "markdown",
   "metadata": {},
   "source": [
    "### Running whole model"
   ]
  },
  {
   "cell_type": "code",
   "execution_count": 2,
   "metadata": {},
   "outputs": [
    {
     "name": "stderr",
     "output_type": "stream",
     "text": [
      "Process:   3%|\u001b[32m▎         \u001b[0m| 1/30 [00:47<22:43, 47.01s/it]"
     ]
    },
    {
     "name": "stdout",
     "output_type": "stream",
     "text": [
      "0: 126.99814989870129\n"
     ]
    },
    {
     "name": "stderr",
     "output_type": "stream",
     "text": [
      "Process:   7%|\u001b[32m▋         \u001b[0m| 2/30 [01:34<22:03, 47.27s/it]"
     ]
    },
    {
     "name": "stdout",
     "output_type": "stream",
     "text": [
      "1: 119.15380136951217\n"
     ]
    },
    {
     "name": "stderr",
     "output_type": "stream",
     "text": [
      "Process:  10%|\u001b[32m█         \u001b[0m| 3/30 [02:18<20:40, 45.94s/it]"
     ]
    },
    {
     "name": "stdout",
     "output_type": "stream",
     "text": [
      "2: 111.33340341682242\n"
     ]
    },
    {
     "name": "stderr",
     "output_type": "stream",
     "text": [
      "Process:  13%|\u001b[32m█▎        \u001b[0m| 4/30 [03:03<19:43, 45.53s/it]"
     ]
    },
    {
     "name": "stdout",
     "output_type": "stream",
     "text": [
      "3: 103.53679794411119\n"
     ]
    },
    {
     "name": "stderr",
     "output_type": "stream",
     "text": [
      "Process:  17%|\u001b[32m█▋        \u001b[0m| 5/30 [03:48<18:50, 45.21s/it]"
     ]
    },
    {
     "name": "stdout",
     "output_type": "stream",
     "text": [
      "4: 95.76382824324628\n"
     ]
    },
    {
     "name": "stderr",
     "output_type": "stream",
     "text": [
      "Process:  20%|\u001b[32m██        \u001b[0m| 6/30 [04:35<18:18, 45.79s/it]"
     ]
    },
    {
     "name": "stdout",
     "output_type": "stream",
     "text": [
      "5: 88.01433897929473\n"
     ]
    },
    {
     "name": "stderr",
     "output_type": "stream",
     "text": [
      "Process:  23%|\u001b[32m██▎       \u001b[0m| 7/30 [05:21<17:33, 45.82s/it]"
     ]
    },
    {
     "name": "stdout",
     "output_type": "stream",
     "text": [
      "6: 80.2881761754893\n"
     ]
    },
    {
     "name": "stderr",
     "output_type": "stream",
     "text": [
      "Process:  27%|\u001b[32m██▋       \u001b[0m| 8/30 [06:15<17:49, 48.62s/it]"
     ]
    },
    {
     "name": "stdout",
     "output_type": "stream",
     "text": [
      "7: 72.58518719844096\n"
     ]
    },
    {
     "name": "stderr",
     "output_type": "stream",
     "text": [
      "Process:  30%|\u001b[32m███       \u001b[0m| 9/30 [07:12<17:52, 51.08s/it]"
     ]
    },
    {
     "name": "stdout",
     "output_type": "stream",
     "text": [
      "8: 64.90522074350201\n"
     ]
    },
    {
     "name": "stderr",
     "output_type": "stream",
     "text": [
      "Process:  33%|\u001b[32m███▎      \u001b[0m| 10/30 [07:59<16:38, 49.93s/it]"
     ]
    },
    {
     "name": "stdout",
     "output_type": "stream",
     "text": [
      "9: 57.24812682034462\n"
     ]
    },
    {
     "name": "stderr",
     "output_type": "stream",
     "text": [
      "Process:  37%|\u001b[32m███▋      \u001b[0m| 11/30 [08:59<16:44, 52.85s/it]"
     ]
    },
    {
     "name": "stdout",
     "output_type": "stream",
     "text": [
      "10: 1256.6381404387284\n"
     ]
    },
    {
     "name": "stderr",
     "output_type": "stream",
     "text": [
      "Process:  40%|\u001b[32m████      \u001b[0m| 12/30 [09:51<15:50, 52.80s/it]"
     ]
    },
    {
     "name": "stdout",
     "output_type": "stream",
     "text": [
      "11: 1234.1432000300229\n"
     ]
    },
    {
     "name": "stderr",
     "output_type": "stream",
     "text": [
      "Process:  43%|\u001b[32m████▎     \u001b[0m| 13/30 [10:40<14:35, 51.51s/it]"
     ]
    },
    {
     "name": "stdout",
     "output_type": "stream",
     "text": [
      "12: 1211.84424718452\n"
     ]
    },
    {
     "name": "stderr",
     "output_type": "stream",
     "text": [
      "Process:  47%|\u001b[32m████▋     \u001b[0m| 14/30 [11:31<13:43, 51.47s/it]"
     ]
    },
    {
     "name": "stdout",
     "output_type": "stream",
     "text": [
      "13: 1189.7381071649156\n"
     ]
    },
    {
     "name": "stderr",
     "output_type": "stream",
     "text": [
      "Process:  50%|\u001b[32m█████     \u001b[0m| 15/30 [12:21<12:46, 51.09s/it]"
     ]
    },
    {
     "name": "stdout",
     "output_type": "stream",
     "text": [
      "14: 1167.8216734343432\n"
     ]
    },
    {
     "name": "stderr",
     "output_type": "stream",
     "text": [
      "Process:  53%|\u001b[32m█████▎    \u001b[0m| 16/30 [13:11<11:47, 50.57s/it]"
     ]
    },
    {
     "name": "stdout",
     "output_type": "stream",
     "text": [
      "15: 1146.09190583477\n"
     ]
    },
    {
     "name": "stderr",
     "output_type": "stream",
     "text": [
      "Process:  57%|\u001b[32m█████▋    \u001b[0m| 17/30 [14:06<11:15, 51.96s/it]"
     ]
    },
    {
     "name": "stdout",
     "output_type": "stream",
     "text": [
      "16: 1124.5458288234954\n"
     ]
    },
    {
     "name": "stderr",
     "output_type": "stream",
     "text": [
      "Process:  60%|\u001b[32m██████    \u001b[0m| 18/30 [14:59<10:27, 52.29s/it]"
     ]
    },
    {
     "name": "stdout",
     "output_type": "stream",
     "text": [
      "17: 1103.18052976556\n"
     ]
    },
    {
     "name": "stderr",
     "output_type": "stream",
     "text": [
      "Process:  63%|\u001b[32m██████▎   \u001b[0m| 19/30 [15:43<09:09, 49.92s/it]"
     ]
    },
    {
     "name": "stdout",
     "output_type": "stream",
     "text": [
      "18: 1081.9931572800224\n"
     ]
    },
    {
     "name": "stderr",
     "output_type": "stream",
     "text": [
      "Process:  67%|\u001b[32m██████▋   \u001b[0m| 20/30 [16:36<08:26, 50.61s/it]"
     ]
    },
    {
     "name": "stdout",
     "output_type": "stream",
     "text": [
      "19: 1053.5237700243651\n"
     ]
    },
    {
     "name": "stderr",
     "output_type": "stream",
     "text": [
      "Process:  70%|\u001b[32m███████   \u001b[0m| 21/30 [17:36<08:01, 53.45s/it]"
     ]
    },
    {
     "name": "stdout",
     "output_type": "stream",
     "text": [
      "20: 21.218857286243292\n"
     ]
    },
    {
     "name": "stderr",
     "output_type": "stream",
     "text": [
      "Process:  73%|\u001b[32m███████▎  \u001b[0m| 22/30 [18:23<06:53, 51.74s/it]"
     ]
    },
    {
     "name": "stdout",
     "output_type": "stream",
     "text": [
      "21: 27.3782508618915\n"
     ]
    },
    {
     "name": "stderr",
     "output_type": "stream",
     "text": [
      "Process:  77%|\u001b[32m███████▋  \u001b[0m| 23/30 [19:13<05:58, 51.16s/it]"
     ]
    },
    {
     "name": "stdout",
     "output_type": "stream",
     "text": [
      "22: 33.52447591810369\n"
     ]
    },
    {
     "name": "stderr",
     "output_type": "stream",
     "text": [
      "Process:  80%|\u001b[32m████████  \u001b[0m| 24/30 [20:03<05:04, 50.69s/it]"
     ]
    },
    {
     "name": "stdout",
     "output_type": "stream",
     "text": [
      "23: 39.65760177845277\n"
     ]
    },
    {
     "name": "stderr",
     "output_type": "stream",
     "text": [
      "Process:  83%|\u001b[32m████████▎ \u001b[0m| 25/30 [20:56<04:17, 51.41s/it]"
     ]
    },
    {
     "name": "stdout",
     "output_type": "stream",
     "text": [
      "24: 45.777697280775556\n"
     ]
    },
    {
     "name": "stderr",
     "output_type": "stream",
     "text": [
      "Process:  87%|\u001b[32m████████▋ \u001b[0m| 26/30 [21:47<03:24, 51.17s/it]"
     ]
    },
    {
     "name": "stdout",
     "output_type": "stream",
     "text": [
      "25: 51.88483078141553\n"
     ]
    },
    {
     "name": "stderr",
     "output_type": "stream",
     "text": [
      "Process:  90%|\u001b[32m█████████ \u001b[0m| 27/30 [22:47<02:42, 54.09s/it]"
     ]
    },
    {
     "name": "stdout",
     "output_type": "stream",
     "text": [
      "26: 57.97907015942883\n"
     ]
    },
    {
     "name": "stderr",
     "output_type": "stream",
     "text": [
      "Process:  93%|\u001b[32m█████████▎\u001b[0m| 28/30 [23:36<01:44, 52.30s/it]"
     ]
    },
    {
     "name": "stdout",
     "output_type": "stream",
     "text": [
      "27: 28.05837325790344\n"
     ]
    },
    {
     "name": "stderr",
     "output_type": "stream",
     "text": [
      "Process:  97%|\u001b[32m█████████▋\u001b[0m| 29/30 [24:24<00:51, 51.05s/it]"
     ]
    },
    {
     "name": "stdout",
     "output_type": "stream",
     "text": [
      "28: 70.12913570226328\n"
     ]
    },
    {
     "name": "stderr",
     "output_type": "stream",
     "text": [
      "Process: 100%|\u001b[32m██████████\u001b[0m| 30/30 [25:11<00:00, 50.37s/it]"
     ]
    },
    {
     "name": "stdout",
     "output_type": "stream",
     "text": [
      "29: 76.18509527596188\n"
     ]
    },
    {
     "name": "stderr",
     "output_type": "stream",
     "text": [
      "\n"
     ]
    }
   ],
   "source": [
    "# Defind the velocity model\n",
    "rows, cols = 30, 10\n",
    "grid_size = (rows, cols)\n",
    "velocity_model = velocity_generator(rows, cols)\n",
    "\n",
    "\n",
    "# Change z locations\n",
    "\n",
    "for layer in tqdm(range(0,30), desc=\"Process\", colour='green'):\n",
    "    # -----------------------------------------------------------------\n",
    "    # TODO: Part 1 - Create a part of velocity model, calculate travel time, ...\n",
    "    velocity_01 = velocity_model[layer,:]\n",
    "    velocity_01 = velocity_01.reshape(1, -1)\n",
    "\n",
    "    rows_new, cols_new = 1, 10\n",
    "    grid_size_new = (rows_new, cols_new)\n",
    "\n",
    "    # location of z does not change so use the original values\n",
    "    z = device_location(n=20, rows=rows, new_min=0.1, new_max=29.9, linear=False)\n",
    "    z = z - layer\n",
    "    sources = [(0, i) for i in z]\n",
    "    receivers = [(cols, i ) for i in z]\n",
    "\n",
    "    intersections = find_intersections(sources, receivers, grid_size=grid_size_new)\n",
    "    unique_intersections = remove_duplicate_intersections(intersections)\n",
    "    distances = calculate_distances(unique_intersections, grid_size=grid_size_new, sources=sources, receivers=receivers)\n",
    "\n",
    "    # -----------------------------------------------------------------\n",
    "    # TODO: Part 2 - Calculate D, T for running least square (paper)\n",
    "    D = []\n",
    "    T = []\n",
    "    s1 = 1/velocity_01\n",
    "\n",
    "    nreceiver = len(receivers)\n",
    "    nsource = len(sources)\n",
    "\n",
    "    for i in range(nsource):\n",
    "        for j in range(nreceiver):\n",
    "            D.append(distances[:,:,j,i].flatten())\n",
    "            T.append(sum(sum(distances[:,:,j,i]*s1)))    \n",
    "    D = np.array(D)\n",
    "    Df = pd.DataFrame(D)\n",
    "    s1 = s1.flatten()\n",
    "\n",
    "    # -----------------------------------------------------------------\n",
    "    # TODO: Part 3 - Create new T and new D\n",
    "    T = np.array(T)\n",
    "    # Find the indices before removing noise\n",
    "    indices_of_zero_np = np.where(T == 0)[0]\n",
    "    noise = noise_generator(400, 0.02)\n",
    "    T = T + noise  \n",
    "    T_new = np.delete(T, indices_of_zero_np, axis=0)\n",
    "    D_new = np.delete(D, indices_of_zero_np, axis=0)\n",
    "\n",
    "    # -----------------------------------------------------------------\n",
    "    # TODO: Part 4 - Create parameters, matrix for quantum annealing\n",
    "    M = D_new.copy()\n",
    "    I = np.ones(M.shape[1])  # Assuming M is a 2D numpy array\n",
    "    R = 3\n",
    "    t = T_new.copy()\n",
    "\n",
    "    # -----------------------------------------------------------------\n",
    "    # TODO: Part 5 - Annealing\n",
    "\n",
    "    # s0: Initial guess\n",
    "    # s1: Original data\n",
    "    # s: iterative data\n",
    "    s0 = np.ones(s1.shape)*1/3500 #--> Average velocity of the background\n",
    "    A = construct_Ad(M, R, 1)\n",
    "    L = max(abs(s1-s0)) + 0.05*max(abs(s1-s0))\n",
    "\n",
    "    # fig, axs = plt.subplots(5, 2, figsize=(12, 15))\n",
    "    directory = f'results30x10-noise/{layer}'\n",
    "    os.makedirs(directory, exist_ok=True)\n",
    "\n",
    "    for i in range(0, 10):\n",
    "        b = (t + L*M@I - M@s0)/L\n",
    "\n",
    "        Q = binary_least_squares_qubo(A, b)\n",
    "        # Solve the QUBO using D-Wave's system\n",
    "        sampler = EmbeddingComposite(DWaveSampler())\n",
    "        sampleset = sampler.sample_qubo(Q, num_reads=100)\n",
    "        # Print the best sample\n",
    "        q = dict_to_vector_auto(sampleset.first.sample)\n",
    "        x = binary2real(q, R, 2)\n",
    "        \n",
    "        # Update s\n",
    "        s = s0 + L * (x - I)\n",
    "\n",
    "        # NOTE: I do not use break condition because of the hardware limitation\n",
    "\n",
    "        s0 = s\n",
    "        L = L / 2\n",
    "        filename = f'{directory}/s_{i}.txt'\n",
    "        np.savetxt(filename, s)\n",
    "    \n",
    "    print(f'{layer}:',max(abs(1/s1-1/s)))"
   ]
  }
 ],
 "metadata": {
  "kernelspec": {
   "display_name": "dwave",
   "language": "python",
   "name": "python3"
  },
  "language_info": {
   "codemirror_mode": {
    "name": "ipython",
    "version": 3
   },
   "file_extension": ".py",
   "mimetype": "text/x-python",
   "name": "python",
   "nbconvert_exporter": "python",
   "pygments_lexer": "ipython3",
   "version": "3.12.2"
  }
 },
 "nbformat": 4,
 "nbformat_minor": 2
}
